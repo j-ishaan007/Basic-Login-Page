{
  "nbformat": 4,
  "nbformat_minor": 0,
  "metadata": {
    "colab": {
      "provenance": [],
      "authorship_tag": "ABX9TyOD+vACBE8ynWNpMJfEgcrd",
      "include_colab_link": true
    },
    "kernelspec": {
      "name": "python3",
      "display_name": "Python 3"
    },
    "language_info": {
      "name": "python"
    }
  },
  "cells": [
    {
      "cell_type": "markdown",
      "metadata": {
        "id": "view-in-github",
        "colab_type": "text"
      },
      "source": [
        "<a href=\"https://colab.research.google.com/github/j-ishaan007/Basic-Login-Page/blob/main/Untitled0.ipynb\" target=\"_parent\"><img src=\"https://colab.research.google.com/assets/colab-badge.svg\" alt=\"Open In Colab\"/></a>"
      ]
    },
    {
      "cell_type": "code",
      "execution_count": null,
      "metadata": {
        "id": "Y_fkdYRMUvjM"
      },
      "outputs": [],
      "source": [
        "class Student:\n",
        "    def __init__(self, name, height_cm, weight_kg):\n",
        "        self.name = name\n",
        "        self.height_cm = height_cm\n",
        "        self.weight_kg = weight_kg\n",
        "        self.bmi = round(self.calculate_bmi(), 2)\n",
        "\n",
        "    def calculate_bmi(self):\n",
        "        return self.weight_kg / ((self.height_cm / 100) ** 2)\n",
        "\n",
        "students = []\n",
        "\n",
        "for i in range(10):\n",
        "    name = input(f\"Enter the name of student {i + 1}: \")\n",
        "    height_cm = float(input(\"Enter the height in cm: \"))\n",
        "    weight_kg = float(input(\"Enter the weight in kg: \"))\n",
        "    students.append(Student(name, height_cm, weight_kg))\n",
        "\n",
        "for student in students:\n",
        "    print(f\"{student.name}'s BMI is {student.bmi}.\")\n",
        "    if student.bmi < 18.5:\n",
        "        print(\"Status: Underweight\")\n",
        "    elif student.bmi >= 18.5 and student.bmi <= 24.9:\n",
        "        print(\"Status: Normal\")\n",
        "    elif student.bmi >= 25.0 and student.bmi <= 29.9:\n",
        "        print(\"Status: Overweight\")\n",
        "    else:\n",
        "        print(\"Status: Obese\")\n"
      ]
    }
  ]
}